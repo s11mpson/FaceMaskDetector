{
 "cells": [
  {
   "cell_type": "code",
   "execution_count": 1,
   "metadata": {
    "colab": {
     "base_uri": "https://localhost:8080/"
    },
    "id": "9HR-gbbXgF-x",
    "outputId": "4c36a3d9-e7c4-49d7-c785-222dd3fe24ec"
   },
   "outputs": [
    {
     "name": "stdout",
     "output_type": "stream",
     "text": [
      "Collecting torchtext==0.8.1\n",
      "  Downloading torchtext-0.8.1-cp38-cp38-macosx_10_9_x86_64.whl (1.5 MB)\n",
      "\u001b[K     |████████████████████████████████| 1.5 MB 9.3 MB/s eta 0:00:01\n",
      "\u001b[?25hCollecting torch==1.7.1\n",
      "  Downloading torch-1.7.1-cp38-none-macosx_10_9_x86_64.whl (108.9 MB)\n",
      "\u001b[K     |████████████████████████████████| 108.9 MB 2.4 MB/s eta 0:00:01\n",
      "\u001b[?25hRequirement already satisfied: tqdm in /Users/ts/opt/anaconda3/lib/python3.8/site-packages (from torchtext==0.8.1) (4.50.2)\n",
      "Requirement already satisfied: requests in /Users/ts/opt/anaconda3/lib/python3.8/site-packages (from torchtext==0.8.1) (2.24.0)\n",
      "Requirement already satisfied: numpy in /Users/ts/opt/anaconda3/lib/python3.8/site-packages (from torchtext==0.8.1) (1.19.2)\n",
      "Requirement already satisfied: typing-extensions in /Users/ts/opt/anaconda3/lib/python3.8/site-packages (from torch==1.7.1->torchtext==0.8.1) (3.7.4.3)\n",
      "Requirement already satisfied: urllib3!=1.25.0,!=1.25.1,<1.26,>=1.21.1 in /Users/ts/opt/anaconda3/lib/python3.8/site-packages (from requests->torchtext==0.8.1) (1.25.11)\n",
      "Requirement already satisfied: certifi>=2017.4.17 in /Users/ts/opt/anaconda3/lib/python3.8/site-packages (from requests->torchtext==0.8.1) (2020.6.20)\n",
      "Requirement already satisfied: chardet<4,>=3.0.2 in /Users/ts/opt/anaconda3/lib/python3.8/site-packages (from requests->torchtext==0.8.1) (3.0.4)\n",
      "Requirement already satisfied: idna<3,>=2.5 in /Users/ts/opt/anaconda3/lib/python3.8/site-packages (from requests->torchtext==0.8.1) (2.10)\n",
      "Installing collected packages: torch, torchtext\n",
      "Successfully installed torch-1.7.1 torchtext-0.8.1\n",
      "Collecting fastbook\n",
      "  Downloading fastbook-0.0.16-py3-none-any.whl (720 kB)\n",
      "\u001b[K     |████████████████████████████████| 720 kB 6.6 MB/s eta 0:00:01\n",
      "\u001b[?25hCollecting fastai>=2.1\n",
      "  Downloading fastai-2.3.1-py3-none-any.whl (194 kB)\n",
      "\u001b[K     |████████████████████████████████| 194 kB 7.2 MB/s eta 0:00:01\n",
      "\u001b[?25hRequirement already satisfied, skipping upgrade: packaging in /Users/ts/opt/anaconda3/lib/python3.8/site-packages (from fastbook) (20.4)\n",
      "Collecting nbdev>=0.2.38\n",
      "  Downloading nbdev-1.1.14-py3-none-any.whl (46 kB)\n",
      "\u001b[K     |████████████████████████████████| 46 kB 4.4 MB/s eta 0:00:01\n",
      "\u001b[?25hCollecting sentencepiece\n",
      "  Downloading sentencepiece-0.1.95-cp38-cp38-macosx_10_6_x86_64.whl (1.1 MB)\n",
      "\u001b[K     |████████████████████████████████| 1.1 MB 7.5 MB/s eta 0:00:01\n",
      "\u001b[?25hRequirement already satisfied, skipping upgrade: pip in /Users/ts/opt/anaconda3/lib/python3.8/site-packages (from fastbook) (20.2.4)\n",
      "Requirement already satisfied, skipping upgrade: requests in /Users/ts/opt/anaconda3/lib/python3.8/site-packages (from fastbook) (2.24.0)\n",
      "Requirement already satisfied, skipping upgrade: ipywidgets in /Users/ts/opt/anaconda3/lib/python3.8/site-packages (from fastbook) (7.5.1)\n",
      "Requirement already satisfied, skipping upgrade: pandas in /Users/ts/opt/anaconda3/lib/python3.8/site-packages (from fastbook) (1.1.3)\n",
      "Requirement already satisfied, skipping upgrade: pillow>6.0.0 in /Users/ts/opt/anaconda3/lib/python3.8/site-packages (from fastai>=2.1->fastbook) (8.0.1)\n",
      "Requirement already satisfied, skipping upgrade: scikit-learn in /Users/ts/opt/anaconda3/lib/python3.8/site-packages (from fastai>=2.1->fastbook) (0.23.2)\n",
      "Collecting spacy<4\n",
      "  Downloading spacy-3.0.6-cp38-cp38-macosx_10_9_x86_64.whl (12.5 MB)\n",
      "\u001b[K     |████████████████████████████████| 12.5 MB 928 kB/s eta 0:00:01\n",
      "\u001b[?25hRequirement already satisfied, skipping upgrade: matplotlib in /Users/ts/opt/anaconda3/lib/python3.8/site-packages (from fastai>=2.1->fastbook) (3.3.2)\n",
      "Requirement already satisfied, skipping upgrade: scipy in /Users/ts/opt/anaconda3/lib/python3.8/site-packages (from fastai>=2.1->fastbook) (1.5.2)\n",
      "Requirement already satisfied, skipping upgrade: torch<1.9,>=1.7.0 in /Users/ts/opt/anaconda3/lib/python3.8/site-packages (from fastai>=2.1->fastbook) (1.7.1)\n",
      "Requirement already satisfied, skipping upgrade: pyyaml in /Users/ts/opt/anaconda3/lib/python3.8/site-packages (from fastai>=2.1->fastbook) (5.3.1)\n",
      "Collecting fastcore<1.4,>=1.3.8\n",
      "  Downloading fastcore-1.3.20-py3-none-any.whl (53 kB)\n",
      "\u001b[K     |████████████████████████████████| 53 kB 4.9 MB/s eta 0:00:011\n",
      "\u001b[?25hCollecting torchvision>=0.8.2\n",
      "  Downloading torchvision-0.9.1-cp38-cp38-macosx_10_9_x86_64.whl (13.2 MB)\n",
      "\u001b[K     |████████████████████████████████| 13.2 MB 8.1 MB/s eta 0:00:01\n",
      "\u001b[?25hCollecting fastprogress>=0.2.4\n",
      "  Downloading fastprogress-1.0.0-py3-none-any.whl (12 kB)\n",
      "Requirement already satisfied, skipping upgrade: pyparsing>=2.0.2 in /Users/ts/opt/anaconda3/lib/python3.8/site-packages (from packaging->fastbook) (2.4.7)\n",
      "Requirement already satisfied, skipping upgrade: six in /Users/ts/opt/anaconda3/lib/python3.8/site-packages (from packaging->fastbook) (1.15.0)\n",
      "Requirement already satisfied, skipping upgrade: ipykernel in /Users/ts/opt/anaconda3/lib/python3.8/site-packages (from nbdev>=0.2.38->fastbook) (5.3.4)\n",
      "Requirement already satisfied, skipping upgrade: nbformat>=4.4.0 in /Users/ts/opt/anaconda3/lib/python3.8/site-packages (from nbdev>=0.2.38->fastbook) (5.0.8)\n",
      "Requirement already satisfied, skipping upgrade: jupyter in /Users/ts/opt/anaconda3/lib/python3.8/site-packages (from nbdev>=0.2.38->fastbook) (1.0.0)\n",
      "Collecting ghapi\n",
      "  Downloading ghapi-0.1.16-py3-none-any.whl (49 kB)\n",
      "\u001b[K     |████████████████████████████████| 49 kB 2.3 MB/s eta 0:00:01\n",
      "\u001b[?25hCollecting fastrelease\n",
      "  Downloading fastrelease-0.1.11-py3-none-any.whl (16 kB)\n",
      "Collecting nbconvert<6\n",
      "  Downloading nbconvert-5.6.1-py2.py3-none-any.whl (455 kB)\n",
      "\u001b[K     |████████████████████████████████| 455 kB 7.0 MB/s eta 0:00:01\n",
      "\u001b[?25hRequirement already satisfied, skipping upgrade: jupyter-client<=6.1.12 in /Users/ts/opt/anaconda3/lib/python3.8/site-packages (from nbdev>=0.2.38->fastbook) (6.1.7)\n",
      "Requirement already satisfied, skipping upgrade: urllib3!=1.25.0,!=1.25.1,<1.26,>=1.21.1 in /Users/ts/opt/anaconda3/lib/python3.8/site-packages (from requests->fastbook) (1.25.11)\n",
      "Requirement already satisfied, skipping upgrade: idna<3,>=2.5 in /Users/ts/opt/anaconda3/lib/python3.8/site-packages (from requests->fastbook) (2.10)\n",
      "Requirement already satisfied, skipping upgrade: certifi>=2017.4.17 in /Users/ts/opt/anaconda3/lib/python3.8/site-packages (from requests->fastbook) (2020.6.20)\n",
      "Requirement already satisfied, skipping upgrade: chardet<4,>=3.0.2 in /Users/ts/opt/anaconda3/lib/python3.8/site-packages (from requests->fastbook) (3.0.4)\n",
      "Requirement already satisfied, skipping upgrade: widgetsnbextension~=3.5.0 in /Users/ts/opt/anaconda3/lib/python3.8/site-packages (from ipywidgets->fastbook) (3.5.1)\n",
      "Requirement already satisfied, skipping upgrade: ipython>=4.0.0; python_version >= \"3.3\" in /Users/ts/opt/anaconda3/lib/python3.8/site-packages (from ipywidgets->fastbook) (7.19.0)\n",
      "Requirement already satisfied, skipping upgrade: traitlets>=4.3.1 in /Users/ts/opt/anaconda3/lib/python3.8/site-packages (from ipywidgets->fastbook) (5.0.5)\n",
      "Requirement already satisfied, skipping upgrade: pytz>=2017.2 in /Users/ts/opt/anaconda3/lib/python3.8/site-packages (from pandas->fastbook) (2020.1)\n",
      "Requirement already satisfied, skipping upgrade: numpy>=1.15.4 in /Users/ts/opt/anaconda3/lib/python3.8/site-packages (from pandas->fastbook) (1.19.2)\n",
      "Requirement already satisfied, skipping upgrade: python-dateutil>=2.7.3 in /Users/ts/opt/anaconda3/lib/python3.8/site-packages (from pandas->fastbook) (2.8.1)\n",
      "Requirement already satisfied, skipping upgrade: threadpoolctl>=2.0.0 in /Users/ts/opt/anaconda3/lib/python3.8/site-packages (from scikit-learn->fastai>=2.1->fastbook) (2.1.0)\n",
      "Requirement already satisfied, skipping upgrade: joblib>=0.11 in /Users/ts/opt/anaconda3/lib/python3.8/site-packages (from scikit-learn->fastai>=2.1->fastbook) (0.17.0)\n",
      "Collecting catalogue<2.1.0,>=2.0.3\n",
      "  Downloading catalogue-2.0.4-py3-none-any.whl (16 kB)\n",
      "Requirement already satisfied, skipping upgrade: setuptools in /Users/ts/opt/anaconda3/lib/python3.8/site-packages (from spacy<4->fastai>=2.1->fastbook) (50.3.1.post20201107)\n",
      "Collecting pydantic<1.8.0,>=1.7.1\n",
      "  Downloading pydantic-1.7.3-cp38-cp38-macosx_10_9_x86_64.whl (2.4 MB)\n",
      "\u001b[K     |████████████████████████████████| 2.4 MB 7.4 MB/s eta 0:00:01\n",
      "\u001b[?25hCollecting preshed<3.1.0,>=3.0.2\n",
      "  Downloading preshed-3.0.5-cp38-cp38-macosx_10_9_x86_64.whl (105 kB)\n",
      "\u001b[K     |████████████████████████████████| 105 kB 5.4 MB/s eta 0:00:01\n",
      "\u001b[?25hCollecting murmurhash<1.1.0,>=0.28.0\n",
      "  Downloading murmurhash-1.0.5-cp38-cp38-macosx_10_9_x86_64.whl (18 kB)\n",
      "Collecting thinc<8.1.0,>=8.0.3\n",
      "  Downloading thinc-8.0.3-cp38-cp38-macosx_10_9_x86_64.whl (1.1 MB)\n",
      "\u001b[K     |████████████████████████████████| 1.1 MB 5.7 MB/s eta 0:00:01\n",
      "\u001b[?25hCollecting typer<0.4.0,>=0.3.0\n",
      "  Downloading typer-0.3.2-py3-none-any.whl (21 kB)\n",
      "Requirement already satisfied, skipping upgrade: tqdm<5.0.0,>=4.38.0 in /Users/ts/opt/anaconda3/lib/python3.8/site-packages (from spacy<4->fastai>=2.1->fastbook) (4.50.2)\n",
      "Collecting blis<0.8.0,>=0.4.0\n",
      "  Downloading blis-0.7.4-cp38-cp38-macosx_10_9_x86_64.whl (5.8 MB)\n",
      "\u001b[K     |████████████████████████████████| 5.8 MB 12.7 MB/s eta 0:00:01\n",
      "\u001b[?25hCollecting wasabi<1.1.0,>=0.8.1\n",
      "  Downloading wasabi-0.8.2-py3-none-any.whl (23 kB)\n",
      "Requirement already satisfied, skipping upgrade: jinja2 in /Users/ts/opt/anaconda3/lib/python3.8/site-packages (from spacy<4->fastai>=2.1->fastbook) (2.11.2)\n",
      "Collecting cymem<2.1.0,>=2.0.2\n",
      "  Downloading cymem-2.0.5-cp38-cp38-macosx_10_9_x86_64.whl (31 kB)\n",
      "Collecting pathy>=0.3.5\n",
      "  Downloading pathy-0.5.2-py3-none-any.whl (42 kB)\n",
      "\u001b[K     |████████████████████████████████| 42 kB 5.9 MB/s eta 0:00:011\n",
      "\u001b[?25hCollecting spacy-legacy<3.1.0,>=3.0.4\n",
      "  Downloading spacy_legacy-3.0.5-py2.py3-none-any.whl (12 kB)\n",
      "Collecting srsly<3.0.0,>=2.4.1\n",
      "  Downloading srsly-2.4.1-cp38-cp38-macosx_10_9_x86_64.whl (450 kB)\n",
      "\u001b[K     |████████████████████████████████| 450 kB 6.8 MB/s eta 0:00:01\n",
      "\u001b[?25hRequirement already satisfied, skipping upgrade: cycler>=0.10 in /Users/ts/opt/anaconda3/lib/python3.8/site-packages (from matplotlib->fastai>=2.1->fastbook) (0.10.0)\n",
      "Requirement already satisfied, skipping upgrade: kiwisolver>=1.0.1 in /Users/ts/opt/anaconda3/lib/python3.8/site-packages (from matplotlib->fastai>=2.1->fastbook) (1.3.0)\n",
      "Requirement already satisfied, skipping upgrade: typing-extensions in /Users/ts/opt/anaconda3/lib/python3.8/site-packages (from torch<1.9,>=1.7.0->fastai>=2.1->fastbook) (3.7.4.3)\n",
      "Requirement already satisfied, skipping upgrade: appnope; platform_system == \"Darwin\" in /Users/ts/opt/anaconda3/lib/python3.8/site-packages (from ipykernel->nbdev>=0.2.38->fastbook) (0.1.0)\n",
      "Requirement already satisfied, skipping upgrade: tornado>=4.2 in /Users/ts/opt/anaconda3/lib/python3.8/site-packages (from ipykernel->nbdev>=0.2.38->fastbook) (6.0.4)\n",
      "Requirement already satisfied, skipping upgrade: jupyter-core in /Users/ts/opt/anaconda3/lib/python3.8/site-packages (from nbformat>=4.4.0->nbdev>=0.2.38->fastbook) (4.6.3)\n",
      "Requirement already satisfied, skipping upgrade: ipython-genutils in /Users/ts/opt/anaconda3/lib/python3.8/site-packages (from nbformat>=4.4.0->nbdev>=0.2.38->fastbook) (0.2.0)\n",
      "Requirement already satisfied, skipping upgrade: jsonschema!=2.5.0,>=2.4 in /Users/ts/opt/anaconda3/lib/python3.8/site-packages (from nbformat>=4.4.0->nbdev>=0.2.38->fastbook) (3.2.0)\n",
      "Requirement already satisfied, skipping upgrade: qtconsole in /Users/ts/opt/anaconda3/lib/python3.8/site-packages (from jupyter->nbdev>=0.2.38->fastbook) (4.7.7)\n",
      "Requirement already satisfied, skipping upgrade: notebook in /Users/ts/opt/anaconda3/lib/python3.8/site-packages (from jupyter->nbdev>=0.2.38->fastbook) (6.1.4)\n",
      "Requirement already satisfied, skipping upgrade: jupyter-console in /Users/ts/opt/anaconda3/lib/python3.8/site-packages (from jupyter->nbdev>=0.2.38->fastbook) (6.2.0)\n",
      "Requirement already satisfied, skipping upgrade: testpath in /Users/ts/opt/anaconda3/lib/python3.8/site-packages (from nbconvert<6->nbdev>=0.2.38->fastbook) (0.4.4)\n",
      "Requirement already satisfied, skipping upgrade: mistune<2,>=0.8.1 in /Users/ts/opt/anaconda3/lib/python3.8/site-packages (from nbconvert<6->nbdev>=0.2.38->fastbook) (0.8.4)\n",
      "Requirement already satisfied, skipping upgrade: bleach in /Users/ts/opt/anaconda3/lib/python3.8/site-packages (from nbconvert<6->nbdev>=0.2.38->fastbook) (3.2.1)\n",
      "Requirement already satisfied, skipping upgrade: defusedxml in /Users/ts/opt/anaconda3/lib/python3.8/site-packages (from nbconvert<6->nbdev>=0.2.38->fastbook) (0.6.0)\n",
      "Requirement already satisfied, skipping upgrade: pygments in /Users/ts/opt/anaconda3/lib/python3.8/site-packages (from nbconvert<6->nbdev>=0.2.38->fastbook) (2.7.2)\n",
      "Requirement already satisfied, skipping upgrade: pandocfilters>=1.4.1 in /Users/ts/opt/anaconda3/lib/python3.8/site-packages (from nbconvert<6->nbdev>=0.2.38->fastbook) (1.4.3)\n",
      "Requirement already satisfied, skipping upgrade: entrypoints>=0.2.2 in /Users/ts/opt/anaconda3/lib/python3.8/site-packages (from nbconvert<6->nbdev>=0.2.38->fastbook) (0.3)\n",
      "Requirement already satisfied, skipping upgrade: pyzmq>=13 in /Users/ts/opt/anaconda3/lib/python3.8/site-packages (from jupyter-client<=6.1.12->nbdev>=0.2.38->fastbook) (19.0.2)\n",
      "Requirement already satisfied, skipping upgrade: pickleshare in /Users/ts/opt/anaconda3/lib/python3.8/site-packages (from ipython>=4.0.0; python_version >= \"3.3\"->ipywidgets->fastbook) (0.7.5)\n",
      "Requirement already satisfied, skipping upgrade: decorator in /Users/ts/opt/anaconda3/lib/python3.8/site-packages (from ipython>=4.0.0; python_version >= \"3.3\"->ipywidgets->fastbook) (4.4.2)\n",
      "Requirement already satisfied, skipping upgrade: prompt-toolkit!=3.0.0,!=3.0.1,<3.1.0,>=2.0.0 in /Users/ts/opt/anaconda3/lib/python3.8/site-packages (from ipython>=4.0.0; python_version >= \"3.3\"->ipywidgets->fastbook) (3.0.8)\n",
      "Requirement already satisfied, skipping upgrade: jedi>=0.10 in /Users/ts/opt/anaconda3/lib/python3.8/site-packages (from ipython>=4.0.0; python_version >= \"3.3\"->ipywidgets->fastbook) (0.17.1)\n",
      "Requirement already satisfied, skipping upgrade: backcall in /Users/ts/opt/anaconda3/lib/python3.8/site-packages (from ipython>=4.0.0; python_version >= \"3.3\"->ipywidgets->fastbook) (0.2.0)\n",
      "Requirement already satisfied, skipping upgrade: pexpect>4.3; sys_platform != \"win32\" in /Users/ts/opt/anaconda3/lib/python3.8/site-packages (from ipython>=4.0.0; python_version >= \"3.3\"->ipywidgets->fastbook) (4.8.0)\n",
      "Requirement already satisfied, skipping upgrade: click<7.2.0,>=7.1.1 in /Users/ts/opt/anaconda3/lib/python3.8/site-packages (from typer<0.4.0,>=0.3.0->spacy<4->fastai>=2.1->fastbook) (7.1.2)\n",
      "Requirement already satisfied, skipping upgrade: MarkupSafe>=0.23 in /Users/ts/opt/anaconda3/lib/python3.8/site-packages (from jinja2->spacy<4->fastai>=2.1->fastbook) (1.1.1)\n",
      "Collecting smart-open<4.0.0,>=2.2.0\n",
      "  Downloading smart_open-3.0.0.tar.gz (113 kB)\n",
      "\u001b[K     |████████████████████████████████| 113 kB 7.5 MB/s eta 0:00:01\n",
      "\u001b[?25hRequirement already satisfied, skipping upgrade: attrs>=17.4.0 in /Users/ts/opt/anaconda3/lib/python3.8/site-packages (from jsonschema!=2.5.0,>=2.4->nbformat>=4.4.0->nbdev>=0.2.38->fastbook) (20.3.0)\n",
      "Requirement already satisfied, skipping upgrade: pyrsistent>=0.14.0 in /Users/ts/opt/anaconda3/lib/python3.8/site-packages (from jsonschema!=2.5.0,>=2.4->nbformat>=4.4.0->nbdev>=0.2.38->fastbook) (0.17.3)\n",
      "Requirement already satisfied, skipping upgrade: qtpy in /Users/ts/opt/anaconda3/lib/python3.8/site-packages (from qtconsole->jupyter->nbdev>=0.2.38->fastbook) (1.9.0)\n",
      "Requirement already satisfied, skipping upgrade: Send2Trash in /Users/ts/opt/anaconda3/lib/python3.8/site-packages (from notebook->jupyter->nbdev>=0.2.38->fastbook) (1.5.0)\n",
      "Requirement already satisfied, skipping upgrade: terminado>=0.8.3 in /Users/ts/opt/anaconda3/lib/python3.8/site-packages (from notebook->jupyter->nbdev>=0.2.38->fastbook) (0.9.1)\n",
      "Requirement already satisfied, skipping upgrade: argon2-cffi in /Users/ts/opt/anaconda3/lib/python3.8/site-packages (from notebook->jupyter->nbdev>=0.2.38->fastbook) (20.1.0)\n",
      "Requirement already satisfied, skipping upgrade: prometheus-client in /Users/ts/opt/anaconda3/lib/python3.8/site-packages (from notebook->jupyter->nbdev>=0.2.38->fastbook) (0.8.0)\n",
      "Requirement already satisfied, skipping upgrade: webencodings in /Users/ts/opt/anaconda3/lib/python3.8/site-packages (from bleach->nbconvert<6->nbdev>=0.2.38->fastbook) (0.5.1)\n",
      "Requirement already satisfied, skipping upgrade: wcwidth in /Users/ts/opt/anaconda3/lib/python3.8/site-packages (from prompt-toolkit!=3.0.0,!=3.0.1,<3.1.0,>=2.0.0->ipython>=4.0.0; python_version >= \"3.3\"->ipywidgets->fastbook) (0.2.5)\n",
      "Requirement already satisfied, skipping upgrade: parso<0.8.0,>=0.7.0 in /Users/ts/opt/anaconda3/lib/python3.8/site-packages (from jedi>=0.10->ipython>=4.0.0; python_version >= \"3.3\"->ipywidgets->fastbook) (0.7.0)\n",
      "Requirement already satisfied, skipping upgrade: ptyprocess>=0.5 in /Users/ts/opt/anaconda3/lib/python3.8/site-packages (from pexpect>4.3; sys_platform != \"win32\"->ipython>=4.0.0; python_version >= \"3.3\"->ipywidgets->fastbook) (0.6.0)\n",
      "Requirement already satisfied, skipping upgrade: cffi>=1.0.0 in /Users/ts/opt/anaconda3/lib/python3.8/site-packages (from argon2-cffi->notebook->jupyter->nbdev>=0.2.38->fastbook) (1.14.3)\n",
      "Requirement already satisfied, skipping upgrade: pycparser in /Users/ts/opt/anaconda3/lib/python3.8/site-packages (from cffi>=1.0.0->argon2-cffi->notebook->jupyter->nbdev>=0.2.38->fastbook) (2.20)\n",
      "Building wheels for collected packages: smart-open\n",
      "  Building wheel for smart-open (setup.py) ... \u001b[?25ldone\n",
      "\u001b[?25h  Created wheel for smart-open: filename=smart_open-3.0.0-py3-none-any.whl size=107095 sha256=8f1984d54d708991e1ba84fb0ed5991b7982f03511b560f6853d4e22b69017cf\n",
      "  Stored in directory: /Users/ts/Library/Caches/pip/wheels/11/73/9a/f91ac1f1816436b16423617c5be5db048697ff152a9c4346f2\n",
      "Successfully built smart-open\n",
      "Installing collected packages: catalogue, pydantic, cymem, murmurhash, preshed, blis, wasabi, srsly, thinc, typer, smart-open, pathy, spacy-legacy, spacy, fastcore, torchvision, fastprogress, fastai, ghapi, fastrelease, nbconvert, nbdev, sentencepiece, fastbook\n",
      "  Attempting uninstall: nbconvert\n",
      "    Found existing installation: nbconvert 6.0.7\n",
      "    Uninstalling nbconvert-6.0.7:\n",
      "      Successfully uninstalled nbconvert-6.0.7\n",
      "\u001b[31mERROR: After October 2020 you may experience errors when installing or updating packages. This is because pip will change the way that it resolves dependency conflicts.\n",
      "\n",
      "We recommend you use --use-feature=2020-resolver to test your packages with the new resolver before it becomes the default.\n",
      "\n",
      "spyder 4.1.5 requires pyqt5<5.13; python_version >= \"3\", which is not installed.\n",
      "spyder 4.1.5 requires pyqtwebengine<5.13; python_version >= \"3\", which is not installed.\n",
      "torchvision 0.9.1 requires torch==1.8.1, but you'll have torch 1.7.1 which is incompatible.\u001b[0m\n",
      "Successfully installed blis-0.7.4 catalogue-2.0.4 cymem-2.0.5 fastai-2.3.1 fastbook-0.0.16 fastcore-1.3.20 fastprogress-1.0.0 fastrelease-0.1.11 ghapi-0.1.16 murmurhash-1.0.5 nbconvert-5.6.1 nbdev-1.1.14 pathy-0.5.2 preshed-3.0.5 pydantic-1.7.3 sentencepiece-0.1.95 smart-open-3.0.0 spacy-3.0.6 spacy-legacy-3.0.5 srsly-2.4.1 thinc-8.0.3 torchvision-0.9.1 typer-0.3.2 wasabi-0.8.2\n"
     ]
    },
    {
     "name": "stderr",
     "output_type": "stream",
     "text": [
      "/Users/ts/opt/anaconda3/lib/python3.8/site-packages/fastbook/__init__.py:18: UserWarning: Missing `graphviz` - please run `conda install fastbook`\n",
      "  except ModuleNotFoundError: warn(\"Missing `graphviz` - please run `conda install fastbook`\")\n"
     ]
    }
   ],
   "source": [
    "#hide\n",
    "!pip install torchtext==0.8.1\n",
    "!pip install -U fastbook\n",
    "\n",
    "import fastbook\n",
    "fastbook.setup_book()"
   ]
  },
  {
   "cell_type": "code",
   "execution_count": 3,
   "metadata": {},
   "outputs": [
    {
     "name": "stdout",
     "output_type": "stream",
     "text": [
      "Collecting package metadata (current_repodata.json): done\n",
      "Solving environment: failed with initial frozen solve. Retrying with flexible solve.\n",
      "Collecting package metadata (repodata.json): done\n",
      "Solving environment: failed with initial frozen solve. Retrying with flexible solve.\n",
      "\n",
      "PackagesNotFoundError: The following packages are not available from current channels:\n",
      "\n",
      "  - fastbook\n",
      "\n",
      "Current channels:\n",
      "\n",
      "  - https://repo.anaconda.com/pkgs/main/osx-64\n",
      "  - https://repo.anaconda.com/pkgs/main/noarch\n",
      "  - https://repo.anaconda.com/pkgs/r/osx-64\n",
      "  - https://repo.anaconda.com/pkgs/r/noarch\n",
      "\n",
      "To search for alternate channels that may provide the conda package you're\n",
      "looking for, navigate to\n",
      "\n",
      "    https://anaconda.org\n",
      "\n",
      "and use the search bar at the top of the page.\n",
      "\n",
      "\n",
      "\n",
      "Note: you may need to restart the kernel to use updated packages.\n"
     ]
    }
   ],
   "source": [
    "conda install fastbook"
   ]
  },
  {
   "cell_type": "code",
   "execution_count": 4,
   "metadata": {
    "id": "a8igYaiOgd9C"
   },
   "outputs": [],
   "source": [
    "#hide\n",
    "from fastbook import *\n",
    "from fastai.vision.widgets import *"
   ]
  },
  {
   "cell_type": "code",
   "execution_count": 57,
   "metadata": {
    "colab": {
     "base_uri": "https://localhost:8080/"
    },
    "id": "CWd476ujgeiN",
    "outputId": "4157bf1c-6a2b-4410-fd0f-c6c3238973a2"
   },
   "outputs": [
    {
     "data": {
      "text/plain": [
       "(#1) [Path('export.pkl')]"
      ]
     },
     "execution_count": 57,
     "metadata": {},
     "output_type": "execute_result"
    }
   ],
   "source": [
    "path = Path()\n",
    "path.ls(file_exts='.pkl')"
   ]
  },
  {
   "cell_type": "code",
   "execution_count": 58,
   "metadata": {
    "id": "ioQ1JimyhLL-"
   },
   "outputs": [],
   "source": [
    "learn_inf = load_learner(path/'export.pkl')"
   ]
  },
  {
   "cell_type": "code",
   "execution_count": 59,
   "metadata": {
    "colab": {
     "base_uri": "https://localhost:8080/",
     "height": 145
    },
    "id": "FU-SMPFshQgw",
    "outputId": "0f6000c9-da76-4f71-e9aa-ba7a0177c87f"
   },
   "outputs": [
    {
     "data": {
      "image/png": "[encoded data removed]",
      "text/plain": [
       "<PIL.Image.Image image mode=RGB size=113x128 at 0x7FA4C801BF10>"
      ]
     },
     "execution_count": 59,
     "metadata": {},
     "output_type": "execute_result"
    }
   ],
   "source": [
    "ims = ['https://www.inurfacemasks.com/wp-content/uploads/2020/07/w4.jpg']\n",
    "dest = 'images/facemask.jpg'\n",
    "download_url(ims[0], dest)\n",
    "im = Image.open(dest)\n",
    "im.to_thumb(128,128)"
   ]
  },
  {
   "cell_type": "code",
   "execution_count": 76,
   "metadata": {
    "colab": {
     "base_uri": "https://localhost:8080/",
     "height": 34
    },
    "id": "zktTu3kClPh7",
    "outputId": "f41f195e-4dc4-49f0-f6f9-8af96ba65139"
   },
   "outputs": [
    {
     "data": {
      "text/html": [],
      "text/plain": [
       "<IPython.core.display.HTML object>"
      ]
     },
     "metadata": {},
     "output_type": "display_data"
    },
    {
     "data": {
      "text/plain": [
       "('people', tensor(0), tensor([0.9989, 0.0011]))"
      ]
     },
     "execution_count": 76,
     "metadata": {},
     "output_type": "execute_result"
    }
   ],
   "source": [
    "learn_inf.predict('images/face.jpg')"
   ]
  },
  {
   "cell_type": "code",
   "execution_count": 77,
   "metadata": {},
   "outputs": [
    {
     "data": {
      "image/png": "[encoded data removed]",
      "text/plain": [
       "<PIL.Image.Image image mode=RGB size=113x128 at 0x7FA4EF6C6700>"
      ]
     },
     "execution_count": 77,
     "metadata": {},
     "output_type": "execute_result"
    }
   ],
   "source": [
    "test = Image.open('images/facemask.jpg')\n",
    "test.to_thumb(128,128)"
   ]
  },
  {
   "cell_type": "code",
   "execution_count": 79,
   "metadata": {
    "colab": {
     "base_uri": "https://localhost:8080/"
    },
    "id": "ON3AtgwglPcs",
    "outputId": "886ebb97-bfda-4e1b-cf32-9dee2040d295"
   },
   "outputs": [
    {
     "data": {
      "text/plain": [
       "['people', 'people with face masks']"
      ]
     },
     "execution_count": 79,
     "metadata": {},
     "output_type": "execute_result"
    }
   ],
   "source": [
    "learn_inf.dls.vocab"
   ]
  },
  {
   "cell_type": "code",
   "execution_count": 80,
   "metadata": {
    "id": "3Q1YA-jwlPYw"
   },
   "outputs": [],
   "source": [
    "btn_upload = SimpleNamespace(data = ['images/facemask.jpg'])"
   ]
  },
  {
   "cell_type": "code",
   "execution_count": 81,
   "metadata": {
    "id": "3hrnk_scchJ7"
   },
   "outputs": [],
   "source": [
    "img = PILImage.create(btn_upload.data[-1])"
   ]
  },
  {
   "cell_type": "code",
   "execution_count": 89,
   "metadata": {
    "colab": {
     "base_uri": "https://localhost:8080/",
     "height": 17
    },
    "id": "ppNKk61FcdJZ",
    "outputId": "922a20a5-a63a-4cdb-f633-ac161b603f4c"
   },
   "outputs": [
    {
     "data": {
      "text/html": [],
      "text/plain": [
       "<IPython.core.display.HTML object>"
      ]
     },
     "metadata": {},
     "output_type": "display_data"
    }
   ],
   "source": [
    "pred,pred_idx,probs = learn_inf.predict(img)"
   ]
  },
  {
   "cell_type": "code",
   "execution_count": 90,
   "metadata": {
    "colab": {
     "base_uri": "https://localhost:8080/",
     "height": 49,
     "referenced_widgets": [
      "a97cd2caeb674363999fc83cf818e63c",
      "01e91dfacfe543058e0ebe32291c5d01",
      "4560657487754085a7cb3d74143566ae"
     ]
    },
    "id": "5kWSAmojlPVT",
    "outputId": "5d2bac4c-6942-4307-c94f-5973bae37b7f"
   },
   "outputs": [],
   "source": [
    "#hide_output\n",
    "lbl_pred = widgets.Label()\n",
    "lbl_pred.value = f'Prediction: {pred}; Probability: {probs[pred_idx]:.04f}'"
   ]
  },
  {
   "cell_type": "code",
   "execution_count": 91,
   "metadata": {
    "id": "JNSPgUJtlA7x"
   },
   "outputs": [],
   "source": [
    "#hide_output\n",
    "out_pl = widgets.Output()\n",
    "out_pl.clear_output()"
   ]
  },
  {
   "cell_type": "code",
   "execution_count": 92,
   "metadata": {
    "colab": {
     "base_uri": "https://localhost:8080/",
     "height": 49,
     "referenced_widgets": [
      "9386a1cfac32447c83a45690e0eb0fd4",
      "23c06ca20fe54813b27acbde1dad3545",
      "f4efaa54ce414a9f84c186818678036d"
     ]
    },
    "id": "bUrmNMkhWe0k",
    "outputId": "9b15c374-8879-4713-9977-c7780cea6587"
   },
   "outputs": [],
   "source": [
    "#hide_output\n",
    "btn_run = widgets.Button(description='Classify')"
   ]
  },
  {
   "cell_type": "code",
   "execution_count": 93,
   "metadata": {
    "id": "pZh0I2_dWkPJ"
   },
   "outputs": [],
   "source": [
    "#hide\n",
    "#Putting back btn_upload to a widget for next cell\n",
    "btn_upload = widgets.FileUpload()"
   ]
  },
  {
   "cell_type": "code",
   "execution_count": 94,
   "metadata": {
    "id": "JnZtRHcoWexy"
   },
   "outputs": [],
   "source": [
    "def on_click_classify(change):\n",
    "    img = PILImage.create(btn_upload.data[-1])\n",
    "    out_pl.clear_output()\n",
    "    with out_pl: display(img.to_thumb(128,128))\n",
    "    pred,pred_idx,probs = learn_inf.predict(img)\n",
    "    lbl_pred.value = f'Prediction: {pred}; Probability: {probs[pred_idx]:.04f}'\n",
    "\n",
    "btn_run.on_click(on_click_classify)"
   ]
  },
  {
   "cell_type": "code",
   "execution_count": 95,
   "metadata": {
    "colab": {
     "base_uri": "https://localhost:8080/",
     "height": 145,
     "referenced_widgets": [
      "8dbb509b64044e859a65bf1a28c164f4",
      "eb2938aa5255492eafcd7623ee754bb6",
      "ce6105d031e54cdfa7b42fac9b70e272",
      "b91945024b7a4ac1b62634107e8e6563",
      "9386a1cfac32447c83a45690e0eb0fd4",
      "e38d7a0a337a43368b6252cfcb5e3b76",
      "a97cd2caeb674363999fc83cf818e63c",
      "c3ab4d9a71544c70be0339acc88de3ac",
      "cee6d9eb1cf9439b967641027860e327",
      "2197dddab4d0453985aa1d8db908449d",
      "71c30c9f55d3450ca922c04d1d13ddd8",
      "23c06ca20fe54813b27acbde1dad3545",
      "f4efaa54ce414a9f84c186818678036d",
      "01e91dfacfe543058e0ebe32291c5d01",
      "4560657487754085a7cb3d74143566ae",
      "8ce06b8e0c704c708d4c4a1d08362f4e"
     ]
    },
    "id": "AHpkAZKslAzD",
    "outputId": "faa4e9b8-b32d-49fd-ea38-c94a6f2fa883"
   },
   "outputs": [
    {
     "data": {
      "application/vnd.jupyter.widget-view+json": {
       "model_id": "022c578397c34f56b936b98e57ffd6ec",
       "version_major": 2,
       "version_minor": 0
      },
      "text/plain": [
       "VBox(children=(Label(value='Upload your picture!'), FileUpload(value={}, description='Upload'), Button(descrip…"
      ]
     },
     "metadata": {},
     "output_type": "display_data"
    }
   ],
   "source": [
    "#hide_output\n",
    "VBox([widgets.Label('Upload your picture!'), \n",
    "      btn_upload, btn_run, out_pl, lbl_pred])"
   ]
  },
  {
   "cell_type": "code",
   "execution_count": null,
   "metadata": {},
   "outputs": [
    {
     "name": "stdout",
     "output_type": "stream",
     "text": [
      "Collecting package metadata (current_repodata.json): done\n",
      "Solving environment: done\n",
      "\n",
      "## Package Plan ##\n",
      "\n",
      "  environment location: /Users/ts/opt/anaconda3\n",
      "\n",
      "  added / updated specs:\n",
      "    - jupyter\n",
      "\n",
      "\n",
      "The following packages will be SUPERSEDED by a higher-priority channel:\n",
      "\n",
      "  conda              pkgs/main::conda-4.10.1-py38hecd8cb5_1 --> conda-forge::conda-4.10.1-py38h50d1736_0\n",
      "\n",
      "\n",
      "Proceed ([y]/n)? "
     ]
    }
   ],
   "source": [
    "!conda install -c conda-forge jupyter\n",
    "!conda install notebook"
   ]
  },
  {
   "cell_type": "code",
   "execution_count": null,
   "metadata": {},
   "outputs": [],
   "source": []
  }
 ],
 "metadata": {
  "colab": {
   "collapsed_sections": [],
   "name": "FaceMaskDetectorProduction.ipynb",
   "provenance": []
  },
  "kernelspec": {
   "display_name": "Python 3",
   "language": "python",
   "name": "python3"
  },
  "language_info": {
   "codemirror_mode": {
    "name": "ipython",
    "version": 3
   },
   "file_extension": ".py",
   "mimetype": "text/x-python",
   "name": "python",
   "nbconvert_exporter": "python",
   "pygments_lexer": "ipython3",
   "version": "3.8.5"
  },
  "widgets": {
   "application/vnd.jupyter.widget-state+json": {
    "01e91dfacfe543058e0ebe32291c5d01": {
     "model_module": "@jupyter-widgets/controls",
     "model_name": "DescriptionStyleModel",
     "state": {
      "_model_module": "@jupyter-widgets/controls",
      "_model_module_version": "1.5.0",
      "_model_name": "DescriptionStyleModel",
      "_view_count": null,
      "_view_module": "@jupyter-widgets/base",
      "_view_module_version": "1.2.0",
      "_view_name": "StyleView",
      "description_width": ""
     }
    },
    "2197dddab4d0453985aa1d8db908449d": {
     "model_module": "@jupyter-widgets/controls",
     "model_name": "ButtonStyleModel",
     "state": {
      "_model_module": "@jupyter-widgets/controls",
      "_model_module_version": "1.5.0",
      "_model_name": "ButtonStyleModel",
      "_view_count": null,
      "_view_module": "@jupyter-widgets/base",
      "_view_module_version": "1.2.0",
      "_view_name": "StyleView",
      "button_color": null,
      "font_weight": ""
     }
    },
    "23c06ca20fe54813b27acbde1dad3545": {
     "model_module": "@jupyter-widgets/controls",
     "model_name": "ButtonStyleModel",
     "state": {
      "_model_module": "@jupyter-widgets/controls",
      "_model_module_version": "1.5.0",
      "_model_name": "ButtonStyleModel",
      "_view_count": null,
      "_view_module": "@jupyter-widgets/base",
      "_view_module_version": "1.2.0",
      "_view_name": "StyleView",
      "button_color": null,
      "font_weight": ""
     }
    },
    "4560657487754085a7cb3d74143566ae": {
     "model_module": "@jupyter-widgets/base",
     "model_name": "LayoutModel",
     "state": {
      "_model_module": "@jupyter-widgets/base",
      "_model_module_version": "1.2.0",
      "_model_name": "LayoutModel",
      "_view_count": null,
      "_view_module": "@jupyter-widgets/base",
      "_view_module_version": "1.2.0",
      "_view_name": "LayoutView",
      "align_content": null,
      "align_items": null,
      "align_self": null,
      "border": null,
      "bottom": null,
      "display": null,
      "flex": null,
      "flex_flow": null,
      "grid_area": null,
      "grid_auto_columns": null,
      "grid_auto_flow": null,
      "grid_auto_rows": null,
      "grid_column": null,
      "grid_gap": null,
      "grid_row": null,
      "grid_template_areas": null,
      "grid_template_columns": null,
      "grid_template_rows": null,
      "height": null,
      "justify_content": null,
      "justify_items": null,
      "left": null,
      "margin": null,
      "max_height": null,
      "max_width": null,
      "min_height": null,
      "min_width": null,
      "object_fit": null,
      "object_position": null,
      "order": null,
      "overflow": null,
      "overflow_x": null,
      "overflow_y": null,
      "padding": null,
      "right": null,
      "top": null,
      "visibility": null,
      "width": null
     }
    },
    "71c30c9f55d3450ca922c04d1d13ddd8": {
     "model_module": "@jupyter-widgets/base",
     "model_name": "LayoutModel",
     "state": {
      "_model_module": "@jupyter-widgets/base",
      "_model_module_version": "1.2.0",
      "_model_name": "LayoutModel",
      "_view_count": null,
      "_view_module": "@jupyter-widgets/base",
      "_view_module_version": "1.2.0",
      "_view_name": "LayoutView",
      "align_content": null,
      "align_items": null,
      "align_self": null,
      "border": null,
      "bottom": null,
      "display": null,
      "flex": null,
      "flex_flow": null,
      "grid_area": null,
      "grid_auto_columns": null,
      "grid_auto_flow": null,
      "grid_auto_rows": null,
      "grid_column": null,
      "grid_gap": null,
      "grid_row": null,
      "grid_template_areas": null,
      "grid_template_columns": null,
      "grid_template_rows": null,
      "height": null,
      "justify_content": null,
      "justify_items": null,
      "left": null,
      "margin": null,
      "max_height": null,
      "max_width": null,
      "min_height": null,
      "min_width": null,
      "object_fit": null,
      "object_position": null,
      "order": null,
      "overflow": null,
      "overflow_x": null,
      "overflow_y": null,
      "padding": null,
      "right": null,
      "top": null,
      "visibility": null,
      "width": null
     }
    },
    "8ce06b8e0c704c708d4c4a1d08362f4e": {
     "model_module": "@jupyter-widgets/base",
     "model_name": "LayoutModel",
     "state": {
      "_model_module": "@jupyter-widgets/base",
      "_model_module_version": "1.2.0",
      "_model_name": "LayoutModel",
      "_view_count": null,
      "_view_module": "@jupyter-widgets/base",
      "_view_module_version": "1.2.0",
      "_view_name": "LayoutView",
      "align_content": null,
      "align_items": null,
      "align_self": null,
      "border": null,
      "bottom": null,
      "display": null,
      "flex": null,
      "flex_flow": null,
      "grid_area": null,
      "grid_auto_columns": null,
      "grid_auto_flow": null,
      "grid_auto_rows": null,
      "grid_column": null,
      "grid_gap": null,
      "grid_row": null,
      "grid_template_areas": null,
      "grid_template_columns": null,
      "grid_template_rows": null,
      "height": null,
      "justify_content": null,
      "justify_items": null,
      "left": null,
      "margin": null,
      "max_height": null,
      "max_width": null,
      "min_height": null,
      "min_width": null,
      "object_fit": null,
      "object_position": null,
      "order": null,
      "overflow": null,
      "overflow_x": null,
      "overflow_y": null,
      "padding": null,
      "right": null,
      "top": null,
      "visibility": null,
      "width": null
     }
    },
    "8dbb509b64044e859a65bf1a28c164f4": {
     "model_module": "@jupyter-widgets/controls",
     "model_name": "VBoxModel",
     "state": {
      "_dom_classes": [],
      "_model_module": "@jupyter-widgets/controls",
      "_model_module_version": "1.5.0",
      "_model_name": "VBoxModel",
      "_view_count": null,
      "_view_module": "@jupyter-widgets/controls",
      "_view_module_version": "1.5.0",
      "_view_name": "VBoxView",
      "box_style": "",
      "children": [
       "IPY_MODEL_ce6105d031e54cdfa7b42fac9b70e272",
       "IPY_MODEL_b91945024b7a4ac1b62634107e8e6563",
       "IPY_MODEL_9386a1cfac32447c83a45690e0eb0fd4",
       "IPY_MODEL_e38d7a0a337a43368b6252cfcb5e3b76",
       "IPY_MODEL_a97cd2caeb674363999fc83cf818e63c"
      ],
      "layout": "IPY_MODEL_eb2938aa5255492eafcd7623ee754bb6"
     }
    },
    "9386a1cfac32447c83a45690e0eb0fd4": {
     "model_module": "@jupyter-widgets/controls",
     "model_name": "ButtonModel",
     "state": {
      "_dom_classes": [],
      "_model_module": "@jupyter-widgets/controls",
      "_model_module_version": "1.5.0",
      "_model_name": "ButtonModel",
      "_view_count": null,
      "_view_module": "@jupyter-widgets/controls",
      "_view_module_version": "1.5.0",
      "_view_name": "ButtonView",
      "button_style": "",
      "description": "Classify",
      "disabled": false,
      "icon": "",
      "layout": "IPY_MODEL_f4efaa54ce414a9f84c186818678036d",
      "style": "IPY_MODEL_23c06ca20fe54813b27acbde1dad3545",
      "tooltip": ""
     }
    },
    "a97cd2caeb674363999fc83cf818e63c": {
     "model_module": "@jupyter-widgets/controls",
     "model_name": "LabelModel",
     "state": {
      "_dom_classes": [],
      "_model_module": "@jupyter-widgets/controls",
      "_model_module_version": "1.5.0",
      "_model_name": "LabelModel",
      "_view_count": null,
      "_view_module": "@jupyter-widgets/controls",
      "_view_module_version": "1.5.0",
      "_view_name": "LabelView",
      "description": "",
      "description_tooltip": null,
      "layout": "IPY_MODEL_4560657487754085a7cb3d74143566ae",
      "placeholder": "​",
      "style": "IPY_MODEL_01e91dfacfe543058e0ebe32291c5d01",
      "value": "Prediction: people with face masks; Probability: 1.0000"
     }
    },
    "b91945024b7a4ac1b62634107e8e6563": {
     "model_module": "@jupyter-widgets/controls",
     "model_name": "FileUploadModel",
     "state": {
      "_counter": 0,
      "_dom_classes": [],
      "_model_module": "@jupyter-widgets/controls",
      "_model_module_version": "1.5.0",
      "_model_name": "FileUploadModel",
      "_view_count": null,
      "_view_module": "@jupyter-widgets/controls",
      "_view_module_version": "1.5.0",
      "_view_name": "FileUploadView",
      "accept": "",
      "button_style": "",
      "data": [],
      "description": "Upload",
      "description_tooltip": null,
      "disabled": false,
      "error": "",
      "icon": "upload",
      "layout": "IPY_MODEL_71c30c9f55d3450ca922c04d1d13ddd8",
      "metadata": [],
      "multiple": false,
      "style": "IPY_MODEL_2197dddab4d0453985aa1d8db908449d"
     }
    },
    "c3ab4d9a71544c70be0339acc88de3ac": {
     "model_module": "@jupyter-widgets/controls",
     "model_name": "DescriptionStyleModel",
     "state": {
      "_model_module": "@jupyter-widgets/controls",
      "_model_module_version": "1.5.0",
      "_model_name": "DescriptionStyleModel",
      "_view_count": null,
      "_view_module": "@jupyter-widgets/base",
      "_view_module_version": "1.2.0",
      "_view_name": "StyleView",
      "description_width": ""
     }
    },
    "ce6105d031e54cdfa7b42fac9b70e272": {
     "model_module": "@jupyter-widgets/controls",
     "model_name": "LabelModel",
     "state": {
      "_dom_classes": [],
      "_model_module": "@jupyter-widgets/controls",
      "_model_module_version": "1.5.0",
      "_model_name": "LabelModel",
      "_view_count": null,
      "_view_module": "@jupyter-widgets/controls",
      "_view_module_version": "1.5.0",
      "_view_name": "LabelView",
      "description": "",
      "description_tooltip": null,
      "layout": "IPY_MODEL_cee6d9eb1cf9439b967641027860e327",
      "placeholder": "​",
      "style": "IPY_MODEL_c3ab4d9a71544c70be0339acc88de3ac",
      "value": "Upload your picture!"
     }
    },
    "cee6d9eb1cf9439b967641027860e327": {
     "model_module": "@jupyter-widgets/base",
     "model_name": "LayoutModel",
     "state": {
      "_model_module": "@jupyter-widgets/base",
      "_model_module_version": "1.2.0",
      "_model_name": "LayoutModel",
      "_view_count": null,
      "_view_module": "@jupyter-widgets/base",
      "_view_module_version": "1.2.0",
      "_view_name": "LayoutView",
      "align_content": null,
      "align_items": null,
      "align_self": null,
      "border": null,
      "bottom": null,
      "display": null,
      "flex": null,
      "flex_flow": null,
      "grid_area": null,
      "grid_auto_columns": null,
      "grid_auto_flow": null,
      "grid_auto_rows": null,
      "grid_column": null,
      "grid_gap": null,
      "grid_row": null,
      "grid_template_areas": null,
      "grid_template_columns": null,
      "grid_template_rows": null,
      "height": null,
      "justify_content": null,
      "justify_items": null,
      "left": null,
      "margin": null,
      "max_height": null,
      "max_width": null,
      "min_height": null,
      "min_width": null,
      "object_fit": null,
      "object_position": null,
      "order": null,
      "overflow": null,
      "overflow_x": null,
      "overflow_y": null,
      "padding": null,
      "right": null,
      "top": null,
      "visibility": null,
      "width": null
     }
    },
    "e38d7a0a337a43368b6252cfcb5e3b76": {
     "model_module": "@jupyter-widgets/output",
     "model_name": "OutputModel",
     "state": {
      "_dom_classes": [],
      "_model_module": "@jupyter-widgets/output",
      "_model_module_version": "1.0.0",
      "_model_name": "OutputModel",
      "_view_count": null,
      "_view_module": "@jupyter-widgets/output",
      "_view_module_version": "1.0.0",
      "_view_name": "OutputView",
      "layout": "IPY_MODEL_8ce06b8e0c704c708d4c4a1d08362f4e",
      "msg_id": "",
      "outputs": []
     }
    },
    "eb2938aa5255492eafcd7623ee754bb6": {
     "model_module": "@jupyter-widgets/base",
     "model_name": "LayoutModel",
     "state": {
      "_model_module": "@jupyter-widgets/base",
      "_model_module_version": "1.2.0",
      "_model_name": "LayoutModel",
      "_view_count": null,
      "_view_module": "@jupyter-widgets/base",
      "_view_module_version": "1.2.0",
      "_view_name": "LayoutView",
      "align_content": null,
      "align_items": null,
      "align_self": null,
      "border": null,
      "bottom": null,
      "display": null,
      "flex": null,
      "flex_flow": null,
      "grid_area": null,
      "grid_auto_columns": null,
      "grid_auto_flow": null,
      "grid_auto_rows": null,
      "grid_column": null,
      "grid_gap": null,
      "grid_row": null,
      "grid_template_areas": null,
      "grid_template_columns": null,
      "grid_template_rows": null,
      "height": null,
      "justify_content": null,
      "justify_items": null,
      "left": null,
      "margin": null,
      "max_height": null,
      "max_width": null,
      "min_height": null,
      "min_width": null,
      "object_fit": null,
      "object_position": null,
      "order": null,
      "overflow": null,
      "overflow_x": null,
      "overflow_y": null,
      "padding": null,
      "right": null,
      "top": null,
      "visibility": null,
      "width": null
     }
    },
    "f4efaa54ce414a9f84c186818678036d": {
     "model_module": "@jupyter-widgets/base",
     "model_name": "LayoutModel",
     "state": {
      "_model_module": "@jupyter-widgets/base",
      "_model_module_version": "1.2.0",
      "_model_name": "LayoutModel",
      "_view_count": null,
      "_view_module": "@jupyter-widgets/base",
      "_view_module_version": "1.2.0",
      "_view_name": "LayoutView",
      "align_content": null,
      "align_items": null,
      "align_self": null,
      "border": null,
      "bottom": null,
      "display": null,
      "flex": null,
      "flex_flow": null,
      "grid_area": null,
      "grid_auto_columns": null,
      "grid_auto_flow": null,
      "grid_auto_rows": null,
      "grid_column": null,
      "grid_gap": null,
      "grid_row": null,
      "grid_template_areas": null,
      "grid_template_columns": null,
      "grid_template_rows": null,
      "height": null,
      "justify_content": null,
      "justify_items": null,
      "left": null,
      "margin": null,
      "max_height": null,
      "max_width": null,
      "min_height": null,
      "min_width": null,
      "object_fit": null,
      "object_position": null,
      "order": null,
      "overflow": null,
      "overflow_x": null,
      "overflow_y": null,
      "padding": null,
      "right": null,
      "top": null,
      "visibility": null,
      "width": null
     }
    }
   }
  }
 },
 "nbformat": 4,
 "nbformat_minor": 4
}
